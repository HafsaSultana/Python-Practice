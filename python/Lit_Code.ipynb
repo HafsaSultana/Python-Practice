{
 "cells": [
  {
   "cell_type": "code",
   "execution_count": 1,
   "metadata": {},
   "outputs": [],
   "source": [
    "#13. Roman to Integer"
   ]
  },
  {
   "cell_type": "code",
   "execution_count": 13,
   "metadata": {},
   "outputs": [
    {
     "name": "stdout",
     "output_type": "stream",
     "text": [
      "0 M 1000\n",
      "2 M 1900\n",
      "4 C 1990\n",
      "6 V 1994\n",
      "1994\n"
     ]
    }
   ],
   "source": [
    "s='MCMXCIV'\n",
    "Roman_Integer=0\n",
    "length=len(s)\n",
    "i=0\n",
    "while(i<length):\n",
    "    if i!=length-1 and s[i]=='I' and (s[i+1]=='V'):\n",
    "        Roman_Integer+=4\n",
    "        i+=1\n",
    "    elif i!=length-1 and s[i]=='I' and (s[i+1]=='X'):\n",
    "        Roman_Integer+=9\n",
    "        i+=1\n",
    "    elif i!=length-1 and s[i]=='X' and (s[i+1]=='L'):\n",
    "        Roman_Integer+=40\n",
    "        i+=1\n",
    "    elif i!=length-1 and s[i]=='X' and (s[i+1]=='C'):\n",
    "        Roman_Integer+=90\n",
    "        i+=1\n",
    "    elif i!=length-1 and s[i]=='C' and (s[i+1]=='D'):\n",
    "        Roman_Integer+=400\n",
    "        i+=1\n",
    "    elif i!=length-1 and s[i]=='C' and (s[i+1]=='M'):\n",
    "        Roman_Integer+=900\n",
    "        i+=1\n",
    "    elif s[i]=='I':\n",
    "        Roman_Integer+=1\n",
    "    elif s[i]=='V':\n",
    "        Roman_Integer+=5\n",
    "    elif s[i]=='X':\n",
    "        Roman_Integer+=10\n",
    "    elif s[i]=='L':\n",
    "        Roman_Integer+=50\n",
    "    elif s[i]=='C':\n",
    "        Roman_Integer+=100\n",
    "    elif s[i]=='D':\n",
    "        Roman_Integer+=500\n",
    "    elif s[i]=='M':\n",
    "        Roman_Integer+=1000\n",
    "    print(i,s[i],Roman_Integer)\n",
    "    i+=1\n",
    "print(Roman_Integer)"
   ]
  },
  {
   "cell_type": "code",
   "execution_count": 14,
   "metadata": {},
   "outputs": [],
   "source": [
    "#1108. Defanging an IP Address"
   ]
  },
  {
   "cell_type": "code",
   "execution_count": 16,
   "metadata": {},
   "outputs": [
    {
     "name": "stdout",
     "output_type": "stream",
     "text": [
      "55[.]100[.]50[.]0\n"
     ]
    }
   ],
   "source": [
    "s='55.100.50.0'\n",
    "print(s.replace('.','[.]'))"
   ]
  },
  {
   "cell_type": "code",
   "execution_count": 17,
   "metadata": {},
   "outputs": [],
   "source": [
    "#2325. Decode the Message"
   ]
  },
  {
   "cell_type": "code",
   "execution_count": 40,
   "metadata": {},
   "outputs": [
    {
     "name": "stdout",
     "output_type": "stream",
     "text": [
      "the five boxing wizards jump quickly\n"
     ]
    }
   ],
   "source": [
    "key=\"eljuxhpwnyrdgtqkviszcfmabo\"\n",
    "key=key.replace(\" \",\"\")\n",
    "key_code=''\n",
    "for i in key:\n",
    "    if i not in key_code:\n",
    "        key_code+=i\n",
    "alphabet=\"abcdefghijklmnopqrstuvwxyz\"\n",
    "message = \"zwx hnfx lqantp mnoeius ycgk vcnjrdb\"\n",
    "decode=''\n",
    "#print(key_code)\n",
    "for i in message:\n",
    "    if i in key_code:\n",
    "        index_value=key_code.index(i)\n",
    "        decode+=alphabet[index_value]\n",
    "        #print(i,index_value,alphabet[index_value])\n",
    "    elif i==' ':\n",
    "        decode+=' '\n",
    "    \n",
    "print(decode)"
   ]
  },
  {
   "cell_type": "code",
   "execution_count": 36,
   "metadata": {},
   "outputs": [
    {
     "name": "stdout",
     "output_type": "stream",
     "text": [
      "<class 'str'>\n",
      "bdavcg\n"
     ]
    }
   ],
   "source": [
    "x= ''.join(set( \"aavvgbcabccd\"))\n",
    "print(type(x))\n",
    "print(x)"
   ]
  },
  {
   "cell_type": "code",
   "execution_count": 41,
   "metadata": {},
   "outputs": [],
   "source": [
    "#2000. Reverse Prefix of Word"
   ]
  },
  {
   "cell_type": "code",
   "execution_count": 51,
   "metadata": {},
   "outputs": [
    {
     "name": "stdout",
     "output_type": "stream",
     "text": [
      "dcbaefd\n"
     ]
    }
   ],
   "source": [
    "word = \"abcdefd\"\n",
    "ch = \"d\"\n",
    "if ch not in word:\n",
    "    print(word)\n",
    "else:\n",
    "    index_ch=word.index(ch)\n",
    "    Prefix=word[0:index_ch+1]\n",
    "    print(Prefix[::-1]+word[index_ch+1:])"
   ]
  },
  {
   "cell_type": "code",
   "execution_count": 52,
   "metadata": {},
   "outputs": [],
   "source": [
    "#657. Robot Return to Origin"
   ]
  },
  {
   "cell_type": "code",
   "execution_count": 56,
   "metadata": {},
   "outputs": [
    {
     "name": "stdout",
     "output_type": "stream",
     "text": [
      "false\n"
     ]
    }
   ],
   "source": [
    "a=0\n",
    "b=0\n",
    "moves=\"LL\"\n",
    "for i in moves:\n",
    "    if i =='U':\n",
    "        a+=1\n",
    "    elif i=='D':\n",
    "        a-=1\n",
    "    elif i=='R':\n",
    "        b+=1\n",
    "    elif i=='L':\n",
    "        b-=1\n",
    "if a==0 and b==0:\n",
    "    print('true')\n",
    "else:\n",
    "    print('false')"
   ]
  },
  {
   "cell_type": "code",
   "execution_count": 63,
   "metadata": {},
   "outputs": [
    {
     "name": "stdout",
     "output_type": "stream",
     "text": [
      "false\n"
     ]
    }
   ],
   "source": [
    "def On(moves):\n",
    "    a=0\n",
    "    b=0\n",
    "    for i in moves:\n",
    "        if i =='U':\n",
    "            a+=1\n",
    "        elif i=='D':\n",
    "            a-=1\n",
    "        elif i=='R':\n",
    "            b+=1\n",
    "        elif i=='L':\n",
    "            b-=1\n",
    "    if a==0 and b==0:\n",
    "        return('true')\n",
    "    else:\n",
    "        return('false')\n",
    "x='LL'\n",
    "print(judgeCircle(x))      "
   ]
  },
  {
   "cell_type": "code",
   "execution_count": 64,
   "metadata": {},
   "outputs": [],
   "source": [
    "#1784. Check if Binary String Has at Most One Segment of Ones"
   ]
  },
  {
   "cell_type": "code",
   "execution_count": 78,
   "metadata": {},
   "outputs": [
    {
     "name": "stdout",
     "output_type": "stream",
     "text": [
      "False\n"
     ]
    }
   ],
   "source": [
    "s='0111'\n",
    "i=0\n",
    "flag=0\n",
    "while(i<(len(s))-1):\n",
    "    if s[i]=='0'and s[i+1]=='1':\n",
    "        flag=1\n",
    "    i+=1\n",
    "if flag==1:\n",
    "    print(False)\n",
    "else:\n",
    "    print(True)"
   ]
  },
  {
   "cell_type": "code",
   "execution_count": 79,
   "metadata": {},
   "outputs": [
    {
     "name": "stdout",
     "output_type": "stream",
     "text": [
      "-1\n"
     ]
    }
   ],
   "source": [
    "s='0'\n",
    "print(s.find('01'))"
   ]
  },
  {
   "cell_type": "code",
   "execution_count": 80,
   "metadata": {},
   "outputs": [],
   "source": [
    "#14. Longest Common Prefix"
   ]
  },
  {
   "cell_type": "code",
   "execution_count": 86,
   "metadata": {},
   "outputs": [
    {
     "name": "stdout",
     "output_type": "stream",
     "text": [
      "### f\n",
      "### f\n",
      "### f\n",
      "### f\n",
      "### f\n",
      "f\n"
     ]
    }
   ],
   "source": [
    "strs = [\"fower\",\"flow\",\"flight\"]\n",
    "common_prefix = ''\n",
    "i=0\n",
    "min_str=''\n",
    "min__str_len=10000\n",
    "count=0\n",
    "while(i<len(strs)):\n",
    "    if len(strs[i]) < min__str_len:\n",
    "        min__str_len=len(strs[i])\n",
    "        min_str=strs[i]\n",
    "    i+=1\n",
    "\n",
    "\n",
    "i=0\n",
    "while i<len(min_str):\n",
    "    j=0\n",
    "    count=0\n",
    "    while j<len(strs)-1:\n",
    "        #print('**',i,'--',j,'___',strs[j][i],'--',strs[j+1][i],'--',count)\n",
    "        if strs[j][i]==strs[j+1][i]:\n",
    "            count+=1\n",
    "        else:\n",
    "            print(\"###\",common_prefix)\n",
    "        j+=1\n",
    "    if count+1==len(strs):\n",
    "        common_prefix+=strs[0][i]\n",
    "        #print('##',strs[0][i])\n",
    "    i+=1\n",
    "print(common_prefix)       "
   ]
  },
  {
   "cell_type": "code",
   "execution_count": null,
   "metadata": {},
   "outputs": [],
   "source": [
    " "
   ]
  },
  {
   "cell_type": "code",
   "execution_count": 48,
   "metadata": {},
   "outputs": [
    {
     "name": "stdout",
     "output_type": "stream",
     "text": [
      "f\n"
     ]
    }
   ],
   "source": [
    "print(strs[2][0])"
   ]
  },
  {
   "cell_type": "code",
   "execution_count": 1,
   "metadata": {},
   "outputs": [],
   "source": [
    "#20. Valid Parentheses"
   ]
  },
  {
   "cell_type": "code",
   "execution_count": 39,
   "metadata": {},
   "outputs": [
    {
     "name": "stdout",
     "output_type": "stream",
     "text": [
      "True\n"
     ]
    }
   ],
   "source": [
    "s = \"([)]\"\n",
    "s1=''\n",
    "for i in s:\n",
    "    if i=='(' and ')' in s and s.index('(') < s.index(')'):\n",
    "        s=s.replace('(','')\n",
    "        s=s.replace(')','')\n",
    "    elif i=='{' and '}' in s and s.index('{') < s.index('}'):\n",
    "        s=s.replace('{','')\n",
    "        s=s.replace('}','')\n",
    "    elif i=='[' and ']' in s and s.index('[') < s.index(']'):\n",
    "        s=s.replace('[','')\n",
    "        s=s.replace(']','')\n",
    "if s=='':  \n",
    "    print(True) \n",
    "else:\n",
    "    print(False)\n"
   ]
  },
  {
   "cell_type": "code",
   "execution_count": 52,
   "metadata": {},
   "outputs": [
    {
     "name": "stdout",
     "output_type": "stream",
     "text": [
      "False\n"
     ]
    }
   ],
   "source": [
    "s = \"([)]\"\n",
    "while '()' in s or '[]'in s or '{}' in s:\n",
    "    s = s.replace('()','').replace('[]','').replace('{}','')\n",
    "if len(s) !=0:\n",
    "    print(False)\n",
    "else: \n",
    "    print(True)"
   ]
  },
  {
   "cell_type": "code",
   "execution_count": 60,
   "metadata": {},
   "outputs": [
    {
     "name": "stdout",
     "output_type": "stream",
     "text": [
      "oiii\n",
      "((()))\n"
     ]
    }
   ],
   "source": [
    "s = \"(((())))\"\n",
    "while '()' in s or '[]'in s or '{}' in s:\n",
    "    print('oiii')\n",
    "    break\n",
    "s = s.replace('()','').replace('[]','').replace('{}','')\n",
    "print(s)"
   ]
  },
  {
   "cell_type": "code",
   "execution_count": 62,
   "metadata": {},
   "outputs": [
    {
     "name": "stdout",
     "output_type": "stream",
     "text": [
      "False\n"
     ]
    }
   ],
   "source": [
    "#final\n",
    "s = \"([)]\"\n",
    "for i in s:\n",
    "    if '()' in s:\n",
    "        s=s.replace('()','')\n",
    "    elif '{}' in s:\n",
    "        s=s.replace('{}','')\n",
    "    elif '[]' in s:\n",
    "        s=s.replace('[]','')\n",
    "if s=='':\n",
    "    print(True)\n",
    "else: print(False)"
   ]
  },
  {
   "cell_type": "code",
   "execution_count": 63,
   "metadata": {},
   "outputs": [],
   "source": [
    "#21. Merge Two Sorted Lists"
   ]
  },
  {
   "cell_type": "code",
   "execution_count": 76,
   "metadata": {},
   "outputs": [
    {
     "name": "stdout",
     "output_type": "stream",
     "text": [
      "[0]\n"
     ]
    }
   ],
   "source": [
    "list1 = [1,2,4]\n",
    "list2 = [1,3,4]\n",
    "list1 = []\n",
    "list2 = [0]\n",
    "for i in list1:\n",
    "    list2.append(i)\n",
    "print(sorted(list2))"
   ]
  },
  {
   "cell_type": "code",
   "execution_count": 77,
   "metadata": {},
   "outputs": [],
   "source": [
    "#26. Remove Duplicates from Sorted Array"
   ]
  },
  {
   "cell_type": "code",
   "execution_count": 98,
   "metadata": {},
   "outputs": [
    {
     "name": "stdout",
     "output_type": "stream",
     "text": [
      "2\n",
      "[1, 2]\n"
     ]
    }
   ],
   "source": [
    "nums = [1,1,2]\n",
    "length = len(nums)\n",
    "setNums=set(nums)\n",
    "nums=[]\n",
    "for i in setNums:\n",
    "    nums.append(i)\n",
    "print(len(setNums))\n",
    "print(nums)"
   ]
  },
  {
   "cell_type": "code",
   "execution_count": 94,
   "metadata": {},
   "outputs": [
    {
     "name": "stdout",
     "output_type": "stream",
     "text": [
      "2\n"
     ]
    }
   ],
   "source": [
    "ans=1\n",
    "j=1\n",
    "i=1\n",
    "while i<len(nums):\n",
    "    if(nums[i]!=nums[i-1]):\n",
    "   \n",
    "        nums[j]=nums[i]\n",
    "        j+=1\n",
    "    i+=1\n",
    "print(j)"
   ]
  },
  {
   "cell_type": "code",
   "execution_count": 1,
   "metadata": {},
   "outputs": [],
   "source": [
    "#66. Plus One"
   ]
  },
  {
   "cell_type": "code",
   "execution_count": 19,
   "metadata": {},
   "outputs": [
    {
     "name": "stdout",
     "output_type": "stream",
     "text": [
      "[1, 0]\n"
     ]
    }
   ],
   "source": [
    "def list_num(list1):\n",
    "    num=0\n",
    "    i=0\n",
    "    j=len(list1)-1\n",
    "    while i<len(list1):\n",
    "        num+=list1[j]* (10**i)\n",
    "        i+=1\n",
    "        j-=1\n",
    "    return num+1\n",
    "\n",
    "def num_list(num):\n",
    "    list1=[]\n",
    "    r=0\n",
    "    d=num\n",
    "    i=0\n",
    "    while d!=0:\n",
    "        d=num//10\n",
    "        r=num%10\n",
    "        list1.append(r)\n",
    "        num=d\n",
    "    return list1\n",
    "    \n",
    "list_rev=num_list(list_num([9]))\n",
    "final_list=list_rev[::-1]\n",
    "print(final_list)\n",
    "        "
   ]
  },
  {
   "cell_type": "code",
   "execution_count": 20,
   "metadata": {},
   "outputs": [],
   "source": [
    "#69. Sqrt(x)"
   ]
  },
  {
   "cell_type": "code",
   "execution_count": 27,
   "metadata": {},
   "outputs": [
    {
     "name": "stdout",
     "output_type": "stream",
     "text": [
      "2\n"
     ]
    }
   ],
   "source": [
    "x=8\n",
    "print (int(x**0.5))"
   ]
  },
  {
   "cell_type": "code",
   "execution_count": null,
   "metadata": {},
   "outputs": [],
   "source": []
  }
 ],
 "metadata": {
  "kernelspec": {
   "display_name": "Python 3",
   "language": "python",
   "name": "python3"
  },
  "language_info": {
   "codemirror_mode": {
    "name": "ipython",
    "version": 3
   },
   "file_extension": ".py",
   "mimetype": "text/x-python",
   "name": "python",
   "nbconvert_exporter": "python",
   "pygments_lexer": "ipython3",
   "version": "3.7.4"
  }
 },
 "nbformat": 4,
 "nbformat_minor": 2
}
