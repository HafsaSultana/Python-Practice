{
 "cells": [
  {
   "cell_type": "markdown",
   "metadata": {},
   "source": [
    "# Non_parameterized Constoctor"
   ]
  },
  {
   "cell_type": "code",
   "execution_count": 6,
   "metadata": {},
   "outputs": [
    {
     "name": "stdout",
     "output_type": "stream",
     "text": [
      "<__main__.Employee object at 0x00000259951B0C88> <__main__.Employee object at 0x00000259951B0CC8>\n"
     ]
    }
   ],
   "source": [
    "class Employee:\n",
    "    pass\n",
    "emp1 = Employee()\n",
    "emp2 = Employee()\n",
    "print(emp1,emp2)"
   ]
  },
  {
   "cell_type": "code",
   "execution_count": 4,
   "metadata": {},
   "outputs": [
    {
     "name": "stdout",
     "output_type": "stream",
     "text": [
      "<__main__.Employee object at 0x00000259951B0108> <__main__.Employee object at 0x00000259951B0148>\n"
     ]
    }
   ],
   "source": [
    " class Employee:\n",
    "    a=5\n",
    "    s=''\n",
    "emp1 = Employee()\n",
    "emp2 = Employee()\n",
    "print(emp1,emp2)"
   ]
  },
  {
   "cell_type": "code",
   "execution_count": 5,
   "metadata": {},
   "outputs": [
    {
     "name": "stdout",
     "output_type": "stream",
     "text": [
      "Go haead\n",
      "Go haead\n",
      "<__main__.Employee object at 0x00000259951B07C8> <__main__.Employee object at 0x00000259951B0808>\n"
     ]
    }
   ],
   "source": [
    " class Employee:\n",
    "    def __init__(self):\n",
    "        print(\"Go haead\")\n",
    "emp1 = Employee()\n",
    "emp2 = Employee()\n",
    "print(emp1,emp2)"
   ]
  },
  {
   "cell_type": "markdown",
   "metadata": {},
   "source": [
    "# Parameterized Constoctor"
   ]
  },
  {
   "cell_type": "code",
   "execution_count": 22,
   "metadata": {},
   "outputs": [
    {
     "name": "stdout",
     "output_type": "stream",
     "text": [
      "hafsa Go haead\n",
      "misty Go haead\n",
      "i am in upper class\n"
     ]
    }
   ],
   "source": [
    "class Employee:\n",
    "        \n",
    "    a=9\n",
    "    s='i am in upper class'\n",
    "    def __init__(self,name):\n",
    "        self.name = name  # instance varible\n",
    "        self.id = 17\n",
    "        print(self.name,\"Go haead\")\n",
    "emp1 = Employee(\"hafsa\")\n",
    "emp2 = Employee(\"misty\")\n",
    "emp3 = Employee.s\n",
    "print(emp3)"
   ]
  },
  {
   "cell_type": "code",
   "execution_count": 33,
   "metadata": {},
   "outputs": [
    {
     "name": "stdout",
     "output_type": "stream",
     "text": [
      "hafsa Go haead\n",
      "misty Go haead\n",
      "Print Display -  hafsa 20\n",
      "Print Display -  misty 27\n",
      "None\n"
     ]
    }
   ],
   "source": [
    "class Employee:\n",
    "        \n",
    "    a=9\n",
    "    s='i am in upper class'\n",
    "    def __init__(self,name,id):\n",
    "        self.name = name  # instance varible\n",
    "        self.id = id\n",
    "        print(self.name,\"Go haead\")\n",
    "        \n",
    "    def display(self):\n",
    "        print(\"Print Display - \",self.name,self.id)\n",
    "        \n",
    "        \n",
    "emp1 = Employee(\"hafsa\",20)\n",
    "emp2 = Employee(\"misty\",27)\n",
    "emp3 = Employee.s\n",
    "emp4 = emp1.display()\n",
    "emp2.display()\n",
    "print(emp4)"
   ]
  },
  {
   "cell_type": "markdown",
   "metadata": {},
   "source": [
    " #student name and id store"
   ]
  },
  {
   "cell_type": "code",
   "execution_count": 49,
   "metadata": {},
   "outputs": [
    {
     "name": "stdout",
     "output_type": "stream",
     "text": [
      "a student obj created\n",
      "self-- <__main__.student object at 0x0000025995274508>\n",
      "a student obj created\n",
      "self-- <__main__.student object at 0x0000025995274548>\n",
      "s1---- <__main__.student object at 0x0000025995274508>\n",
      "s2---- <__main__.student object at 0x0000025995274548>\n"
     ]
    }
   ],
   "source": [
    "class student:\n",
    "    def __init__(self):\n",
    "        print(\"a student obj created\")\n",
    "        print('self--',self)\n",
    "        \n",
    "    def f():\n",
    "        \n",
    "        pass\n",
    "\n",
    "\n",
    "s1=student()\n",
    "s2=student()\n",
    "print('s1----',s1)\n",
    "print('s2----',s2)"
   ]
  },
  {
   "cell_type": "code",
   "execution_count": 72,
   "metadata": {},
   "outputs": [
    {
     "name": "stdout",
     "output_type": "stream",
     "text": [
      "Bob is a student and id  11\n",
      "Alice is a student and id  22\n",
      "Bob\n",
      "Hafsa\n"
     ]
    }
   ],
   "source": [
    "class student:\n",
    "    def __init__(self,name,Id):  # constructor \n",
    "        self.NAME=name\n",
    "        self.ID=Id\n",
    "        print(self.NAME,\"is a student and id \",self.ID)\n",
    "\n",
    "s1=student('Bob',11)\n",
    "s2=student('Alice',22)\n",
    "\n",
    "print(s1.NAME)\n",
    "s1.NAME='Hafsa'\n",
    "print(s1.NAME)"
   ]
  },
  {
   "cell_type": "markdown",
   "metadata": {},
   "source": [
    "# Instance variable and Instance method"
   ]
  },
  {
   "cell_type": "code",
   "execution_count": 70,
   "metadata": {},
   "outputs": [
    {
     "name": "stdout",
     "output_type": "stream",
     "text": [
      "Bob is a student and id  11\n",
      "Alice is a student and id  22\n"
     ]
    }
   ],
   "source": [
    "class student:\n",
    "    def __init__(self,name,Id):  # constructor \n",
    "        self.NAME=name          #instance variable\n",
    "        self.ID=Id              #instance variable\n",
    "        #print(self.NAME,\"is a student and id \",self.ID)\n",
    "        \n",
    "    def details (self):    #instance method\n",
    "        print(self.NAME,\"is a student and id \",self.ID)\n",
    "\n",
    "s1=student('Bob',11)\n",
    "s2=student('Alice',22)\n",
    "s1.details()\n",
    "s2.details()"
   ]
  },
  {
   "cell_type": "code",
   "execution_count": 77,
   "metadata": {},
   "outputs": [
    {
     "name": "stdout",
     "output_type": "stream",
     "text": [
      "Bob is a student and id  11\n",
      "Alice is a student and id  22\n",
      "Bob is a student and id  11\n",
      "Alice is a student and id  22\n",
      "Bob is a student and id  11\n",
      "Alice is a student and id  22\n",
      "Bob is a student and id  11\n",
      "Alice is a student and id  22\n"
     ]
    }
   ],
   "source": [
    "class student:\n",
    "    def __init__(self,name,Id):  # constructor \n",
    "        self.NAME=name          #instance variable\n",
    "        self.ID=Id              #instance variable\n",
    "        print(self.NAME,\"is a student and id \",self.ID)\n",
    "        \n",
    "    def details (self):    #instance method\n",
    "        print(self.NAME,\"is a student and id \",self.ID)\n",
    "\n",
    "s1=student('Bob',11)\n",
    "s2=student('Alice',22)\n",
    "s1.details()\n",
    "s2.details()\n",
    "\n",
    "s1=student('Bob',11)\n",
    "s2=student('Alice',22)\n",
    "s1.details()\n",
    "s2.details()"
   ]
  },
  {
   "cell_type": "markdown",
   "metadata": {},
   "source": [
    "#house modeling"
   ]
  },
  {
   "cell_type": "code",
   "execution_count": 79,
   "metadata": {},
   "outputs": [
    {
     "name": "stdout",
     "output_type": "stream",
     "text": [
      "4  window  2  door\n"
     ]
    }
   ],
   "source": [
    "class house:\n",
    "    def __init__(self):\n",
    "        self.window=4\n",
    "        self.door=2\n",
    "        \n",
    "    def view(self):\n",
    "        print(self.window,\" window \",self.door,' door')\n",
    "        \n",
    "h1=house()\n",
    "h1.view()"
   ]
  },
  {
   "cell_type": "markdown",
   "metadata": {},
   "source": [
    "#car modeling"
   ]
  },
  {
   "cell_type": "code",
   "execution_count": 96,
   "metadata": {},
   "outputs": [
    {
     "name": "stdout",
     "output_type": "stream",
     "text": [
      "The model year of this BWM is 2023\n",
      "It is a  4 wheel car.\n",
      "The model year of this Royel is 2022\n",
      "It is a  6 wheel car.\n"
     ]
    }
   ],
   "source": [
    "class Car:\n",
    "    def __init__(self,name,model):\n",
    "        self.name = name          #instance variable\n",
    "        self.model_year = model   #instance variable\n",
    "        self.wheel = 4             #instance variable\n",
    "        \n",
    "    def view(self):               #instance method\n",
    "        print('The model year of this', self.name,\n",
    "                 'is',self.model_year)\n",
    "        print(\"It is a \",self.wheel,\"wheel car.\")\n",
    "        \n",
    "c1=Car(\"BWM\",2023)\n",
    "c1.view()\n",
    "\n",
    "c2 = Car(\"Royel\",2022)\n",
    "c2.wheel=6\n",
    "c2.view()"
   ]
  },
  {
   "cell_type": "markdown",
   "metadata": {},
   "source": [
    "#Dog class"
   ]
  },
  {
   "cell_type": "code",
   "execution_count": 1,
   "metadata": {},
   "outputs": [
    {
     "name": "stdout",
     "output_type": "stream",
     "text": [
      "The name of the dog is Tomi  and color is  Red\n",
      "The name of the dog is Jemy  and color is  Black\n",
      "__dict__ {'name': 'Tomi', 'color': 'Red'}\n",
      "__dict__ {'name': 'Jemy', 'color': 'Black'}\n",
      "<class '__main__.Dog'>\n",
      "<method-wrapper '__delattr__' of Dog object at 0x00000221D99C7108>\n",
      "None\n",
      "<method-wrapper '__ge__' of Dog object at 0x00000221D99C7108>\n",
      "['__class__', '__delattr__', '__dict__', '__dir__', '__doc__', '__eq__', '__format__', '__ge__', '__getattribute__', '__gt__', '__hash__', '__init__', '__init_subclass__', '__le__', '__lt__', '__module__', '__ne__', '__new__', '__reduce__', '__reduce_ex__', '__repr__', '__setattr__', '__sizeof__', '__str__', '__subclasshook__', '__weakref__', 'color', 'display', 'name', 'update_color']\n"
     ]
    }
   ],
   "source": [
    "class Dog:\n",
    "    def __init__(self,name,clr):\n",
    "        self.name=name\n",
    "        self.color=clr\n",
    "        \n",
    "    def update_color(self,clr):\n",
    "        self.color=clr\n",
    "    \n",
    "    def display(self):\n",
    "        print('The name of the dog is',self.name,' and color is ',self.color)\n",
    "        \n",
    "d1= Dog(\"Tomi\",'Red')\n",
    "d1.display()\n",
    "d2 = Dog(\"Jemy\",'White')\n",
    "d2.update_color('Black')\n",
    "d2.display()\n",
    "\n",
    "print('__dict__',d1.__dict__)\n",
    "print('__dict__',d2.__dict__)\n",
    "\n",
    "print(d1.__class__)\n",
    "print(d1.__delattr__)\n",
    "print(d1.__doc__)\n",
    "print(d1.__ge__)\n",
    "print(dir(d1))\n"
   ]
  },
  {
   "cell_type": "markdown",
   "metadata": {},
   "source": [
    "# Class import"
   ]
  },
  {
   "cell_type": "code",
   "execution_count": 137,
   "metadata": {},
   "outputs": [
    {
     "name": "stdout",
     "output_type": "stream",
     "text": [
      "Book Name: Opekkha \n",
      "Author: Humayon Ahmed \n",
      "Price: 0 Taka\n",
      "Book Name: Opekkha \n",
      "Author: Humayon Ahmed \n",
      "Price: 125 Taka\n"
     ]
    }
   ],
   "source": [
    "class Book:\n",
    "    def __init__(self,name,author):\n",
    "        self.name=name\n",
    "        self.author=author\n",
    "        self.price = 0\n",
    "        \n",
    "    def set_price(self, price):\n",
    "        self.price = price\n",
    "        \n",
    "    def get_price(self):\n",
    "        return self.price \n",
    "\n",
    "    def details (self):    #instance method\n",
    "        print('Book Name:',self.name,\n",
    "              \"\\nAuthor:\",self.author,\n",
    "             \"\\nPrice:\",self.price,'Taka')\n",
    "              \n",
    "b1 = Book('Opekkha',\"Humayon Ahmed\")\n",
    "b1.details()\n",
    "b1.set_price(125)\n",
    "# x=b1.get_price()\n",
    "# print(x)\n",
    "b1.details()"
   ]
  },
  {
   "cell_type": "markdown",
   "metadata": {},
   "source": [
    "# pass by value & pass by referance "
   ]
  },
  {
   "cell_type": "code",
   "execution_count": 47,
   "metadata": {},
   "outputs": [
    {
     "name": "stdout",
     "output_type": "stream",
     "text": [
      "Method inside:  60\n",
      "Method inside:  ['Green', 'Red', 'Blue', 'Orange']\n",
      "Method inside:  55\n",
      "Method inside:  ['Green', 'Red', 'Blue', 'Orange']\n"
     ]
    }
   ],
   "source": [
    "class Cat:\n",
    "    def __init__(self, color, action):\n",
    "        self.color = color\n",
    "        self.action = action\n",
    "\n",
    "    def view(self, num, clr):\n",
    "        num = num + 5\n",
    "        clr1 = clr\n",
    "        clr1[0] = 'Green'\n",
    "        print(\"Method inside: \", num)\n",
    "        print(\"Method inside: \", clr1)\n",
    "\n",
    "\n",
    "colors = ['Black', 'Red', 'Blue', 'Orange']\n",
    "c1 = Cat(\"Red\", \"Sleeping\")\n",
    "x = 55\n",
    "c1.view(x,colors)\n",
    "\n",
    "print(\"Method inside: \", x)\n",
    "print(\"Method inside: \", colors)\n"
   ]
  },
  {
   "cell_type": "markdown",
   "metadata": {},
   "source": [
    "# Method overloding "
   ]
  },
  {
   "cell_type": "code",
   "execution_count": 8,
   "metadata": {},
   "outputs": [
    {
     "name": "stdout",
     "output_type": "stream",
     "text": [
      "4\n",
      "20\n",
      "120\n",
      "Sort way using *num - \n",
      "4\n",
      "20\n",
      "60480\n"
     ]
    }
   ],
   "source": [
    "class my_calculetor:\n",
    "\n",
    "    def product(self, num1, num2=None, num3=None):\n",
    "        if num1 != None and num2 != None and num3 != None:\n",
    "            print(num1 * num2 * num3)\n",
    "        elif num1 != None and num2 != None:\n",
    "            print(num1 * num2)\n",
    "        else:\n",
    "            print(num1)\n",
    "\n",
    "    # def product(self, num1, num2, num3):\n",
    "    #     print(num1 * num2 *num3)\n",
    "\n",
    "\n",
    "class my_min_calculetor:\n",
    "\n",
    "    def product(self, *num):\n",
    "        pro = 1\n",
    "        for i in num:\n",
    "            pro = pro * i\n",
    "        print(pro)\n",
    "\n",
    "\n",
    "c1 = my_calculetor()\n",
    "c1.product(4)\n",
    "c1.product(4, 5)\n",
    "c1.product(4, 5, 6)\n",
    "\n",
    "print(\"Sort way using *num - \")\n",
    "\n",
    "c2 = my_min_calculetor()\n",
    "c2.product(4)\n",
    "c2.product(4, 5)\n",
    "c2.product(4, 5, 6,7,8,9)\n"
   ]
  },
  {
   "cell_type": "code",
   "execution_count": 5,
   "metadata": {},
   "outputs": [
    {
     "name": "stdout",
     "output_type": "stream",
     "text": [
      "Requirement already satisfied: multipledispatch in c:\\users\\hafsa\\anaconda3\\lib\\site-packages (0.6.0)\n",
      "Requirement already satisfied: six in c:\\users\\hafsa\\anaconda3\\lib\\site-packages (from multipledispatch) (1.12.0)\n",
      "Note: you may need to restart the kernel to use updated packages.\n"
     ]
    }
   ],
   "source": [
    "pip install multipledispatch"
   ]
  },
  {
   "cell_type": "code",
   "execution_count": 19,
   "metadata": {},
   "outputs": [
    {
     "name": "stdout",
     "output_type": "stream",
     "text": [
      "20\n",
      "120\n",
      "20\n",
      "120\n",
      "28\n"
     ]
    }
   ],
   "source": [
    "from multipledispatch import dispatch\n",
    "\n",
    "class my_calculetor:\n",
    "    \n",
    "    @dispatch(int, int)\n",
    "    def product(self, a, b):\n",
    "        print(a*b)\n",
    "    \n",
    "    @dispatch(int, int,int)\n",
    "    def product(self, a, b,c):\n",
    "        print(a*b*c)\n",
    "        \n",
    "    @dispatch(str, str)\n",
    "    def product(self, a, b):\n",
    "        print(int(a)*int(b))\n",
    "        \n",
    "    @dispatch(float, float, float)\n",
    "    def product(self, a, b,c):\n",
    "        print(a*b*c)\n",
    "    \n",
    "    @dispatch(int, str)\n",
    "    def product(self, a, b):\n",
    "        print(a*int(b))\n",
    "    \n",
    "        \n",
    "c1 = my_calculetor()\n",
    "c1.product(4,5)\n",
    "c1.product(4,5,6)\n",
    "c1.product('4','5')\n",
    "c1.product(4,5,6)\n",
    "c1.product(4,'7')"
   ]
  },
  {
   "cell_type": "markdown",
   "metadata": {},
   "source": [
    "# constructor overlodding"
   ]
  },
  {
   "cell_type": "code",
   "execution_count": 25,
   "metadata": {},
   "outputs": [
    {
     "name": "stdout",
     "output_type": "stream",
     "text": [
      "Bob is a student and id  11\n",
      "Alice is a student and id  22 and cg 3.8\n",
      "Bob is a student.\n",
      "Nothing\n"
     ]
    }
   ],
   "source": [
    "class student:\n",
    "    def __init__(self,*info):  # constructor \n",
    "        if len(info) == 3:\n",
    "            self.NAME=info[0]          #instance variable\n",
    "            self.ID=info[1]               \n",
    "            self.cg=info[2] \n",
    "            print(self.NAME,\"is a student and id \",self.ID,'and cg',self.cg)\n",
    "        elif len(info) == 2:\n",
    "            self.NAME=info[0]          \n",
    "            self.ID=info[1] \n",
    "            print(self.NAME,\"is a student and id \",self.ID)\n",
    "        elif len(info) == 1:\n",
    "            self.NAME=info[0]\n",
    "            print(self.NAME,'is a student.')\n",
    "        elif len(info) == 0:\n",
    "            print('Nothing')\n",
    "        \n",
    "    \n",
    "\n",
    "s1=student('Bob',11)\n",
    "s2=student('Alice',22,3.8)\n",
    "s3=student('Bob')\n",
    "s4=student()\n"
   ]
  },
  {
   "cell_type": "markdown",
   "metadata": {},
   "source": [
    "# vaccine example"
   ]
  },
  {
   "cell_type": "code",
   "execution_count": 47,
   "metadata": {},
   "outputs": [
    {
     "name": "stdout",
     "output_type": "stream",
     "text": [
      "1st dose done for Bob\n",
      "------------------------------\n",
      "Name: Bob Age: 21 Type: Student\n",
      "Vaccine Name: AstraZeneca\n",
      "1st dose: Given\n",
      "2nd dose: Please come after 60 days\n",
      "------------------------------\n",
      "Sorry Bob . you can't take 2 different vaccines\n",
      "------------------------------\n",
      "2nd dose done for Bob\n",
      "------------------------------\n",
      "Name: Bob Age: 21 Type: Student\n",
      "Vaccine Name: AstraZeneca\n",
      "1st dose: Given\n",
      "2nd dose: Given\n",
      "------------------------------\n",
      "------------------------------\n",
      "Sorry Carol . Minimum ae for taking vaccines is 25 years now.\n",
      "------------------------------\n",
      "------------------------------\n",
      "1st dose done for David\n",
      "------------------------------\n",
      "Name: David Age: 34 Type: General Citizen\n",
      "Vaccine Name: Morderna\n",
      "1st dose: Given\n",
      "2nd dose: Please come after 30 days\n",
      "------------------------------\n",
      "2nd dose done for David\n",
      "------------------------------\n"
     ]
    }
   ],
   "source": [
    "class Vaccine:\n",
    "    def __init__(self,name,place,time):\n",
    "        self.vac_name = name\n",
    "        self.vac_place = place\n",
    "        self.vac_time_dif = time\n",
    "        \n",
    "        \n",
    "class Person:\n",
    "    def __init__(self,*Person_info):\n",
    "        if len(Person_info)==3:\n",
    "            self.person_name = Person_info[0]\n",
    "            self.person_age = Person_info[1]\n",
    "            self.person_Occupation = Person_info[2] \n",
    "            self.person_Vac_name =[]\n",
    "            \n",
    "        elif len(Person_info)==2:\n",
    "            self.person_name = Person_info[0]\n",
    "            self.person_age = Person_info[1]\n",
    "            self.person_Occupation = 'General Citizen' \n",
    "            self.person_Vac_name =[]\n",
    "            \n",
    "            \n",
    "    def pushVaccine(self,*Vac_info):\n",
    "        \n",
    "        if len(Vac_info)==1:\n",
    "            self.vac_name = Vac_info[0].vac_name\n",
    "            self.vac_dose_no = '1st dose'\n",
    "            self.vac_time_dif = Vac_info[0].vac_time_dif\n",
    "            self.person_Vac_name_1st=self.vac_name\n",
    "            \n",
    "        elif len(Vac_info)==2:\n",
    "            self.vac_name = Vac_info[0].vac_name\n",
    "            self.vac_dose_no = '2nd dose'\n",
    "            self.vac_time_dif = Vac_info[0].vac_time_dif\n",
    "            self.person_Vac_name_2nd=self.vac_name   \n",
    "            \n",
    "            \n",
    "        if self.person_Occupation != 'Student' and self.person_age<25:\n",
    "            print('Sorry',self.person_name,'. Minimum ae for taking vaccines is 25 years now.')\n",
    "         \n",
    "        elif self.vac_dose_no == '1st dose':\n",
    "            print('1st dose done for',self.person_name)\n",
    "        elif self.vac_dose_no == '2nd dose':\n",
    "            \n",
    "            if self.person_Vac_name_1st!=self.person_Vac_name_2nd:\n",
    "                print('Sorry',self.person_name,'. you can\\'t take 2 different vaccines')\n",
    "            else:\n",
    "                print('2nd dose done for',self.person_name)\n",
    "            \n",
    "    def showDetails(self):\n",
    "        if self.vac_dose_no == '1st dose':\n",
    "            print('Name:',self.person_name,'Age:',self.person_age,'Type:',self.person_Occupation)\n",
    "            print('Vaccine Name:',self.vac_name)\n",
    "            print('1st dose: Given')\n",
    "            print('2nd dose: Please come after',self.vac_time_dif,'days')\n",
    "        elif self.vac_dose_no == '2nd dose':\n",
    "            print('Name:',self.person_name,'Age:',self.person_age,'Type:',self.person_Occupation)\n",
    "            print('Vaccine Name:',self.vac_name)\n",
    "            print('1st dose: Given')\n",
    "            print('2nd dose: Given')\n",
    "            \n",
    "            \n",
    "astra = Vaccine('AstraZeneca','UK',60)\n",
    "modr = Vaccine('Morderna','UK',30)\n",
    "sin = Vaccine('Sinopharm','Cina',30)\n",
    "\n",
    "p1 = Person('Bob', 21,'Student')\n",
    "p1.pushVaccine(astra)\n",
    "print('------------------------------')\n",
    "p1.showDetails()\n",
    "print('------------------------------')\n",
    "p1.pushVaccine(sin,'2nd Dose')\n",
    "print('------------------------------')\n",
    "p1.pushVaccine(astra,'2nd Dose')\n",
    "print('------------------------------')\n",
    "p1.showDetails()\n",
    "print('------------------------------')\n",
    "\n",
    "p1 = Person('Carol', 23,'Actor')\n",
    "print('------------------------------')\n",
    "p1.pushVaccine(sin)\n",
    "print('------------------------------')\n",
    "\n",
    "p1 = Person('David', 34)\n",
    "print('------------------------------')\n",
    "p1.pushVaccine(modr)\n",
    "print('------------------------------')\n",
    "p1.showDetails()\n",
    "print('------------------------------')\n",
    "p1.pushVaccine(modr,'2nd Dose')\n",
    "print('------------------------------')"
   ]
  },
  {
   "cell_type": "markdown",
   "metadata": {},
   "source": [
    "# Class variable and Instance variable "
   ]
  },
  {
   "cell_type": "code",
   "execution_count": 36,
   "metadata": {},
   "outputs": [
    {
     "name": "stdout",
     "output_type": "stream",
     "text": [
      "Name:  White Place\n",
      "Building\n"
     ]
    }
   ],
   "source": [
    "class House:\n",
    "    Type = 'Building'\n",
    "    def __init__(self,name):\n",
    "        self.name = name\n",
    "        print(\"Name: \",self.name)\n",
    "        \n",
    "h1 = House('White Place')\n",
    "h1_type = h1.Type\n",
    "print(h1_type)"
   ]
  },
  {
   "cell_type": "code",
   "execution_count": 42,
   "metadata": {},
   "outputs": [
    {
     "ename": "TypeError",
     "evalue": "set_name() takes 0 positional arguments but 1 was given",
     "output_type": "error",
     "traceback": [
      "\u001b[1;31m---------------------------------------------------------------------------\u001b[0m",
      "\u001b[1;31mTypeError\u001b[0m                                 Traceback (most recent call last)",
      "\u001b[1;32m<ipython-input-42-ef14b190a861>\u001b[0m in \u001b[0;36m<module>\u001b[1;34m\u001b[0m\n\u001b[0;32m     10\u001b[0m \u001b[0ms1\u001b[0m\u001b[1;33m=\u001b[0m\u001b[0mstudent\u001b[0m\u001b[1;33m(\u001b[0m\u001b[1;33m)\u001b[0m\u001b[1;33m\u001b[0m\u001b[1;33m\u001b[0m\u001b[0m\n\u001b[0;32m     11\u001b[0m \u001b[0ms2\u001b[0m\u001b[1;33m=\u001b[0m\u001b[0mstudent\u001b[0m\u001b[1;33m(\u001b[0m\u001b[1;33m)\u001b[0m\u001b[1;33m\u001b[0m\u001b[1;33m\u001b[0m\u001b[0m\n\u001b[1;32m---> 12\u001b[1;33m \u001b[0ms1\u001b[0m\u001b[1;33m.\u001b[0m\u001b[0mset_name\u001b[0m\u001b[1;33m(\u001b[0m\u001b[1;33m)\u001b[0m\u001b[1;33m\u001b[0m\u001b[1;33m\u001b[0m\u001b[0m\n\u001b[0m",
      "\u001b[1;31mTypeError\u001b[0m: set_name() takes 0 positional arguments but 1 was given"
     ]
    }
   ],
   "source": [
    "class student:\n",
    "    def __init__(self):  # constructor \n",
    "        pass\n",
    "    \n",
    "    def set_name():\n",
    "        self.NAME=name\n",
    "        self.ID=Id\n",
    "        print(self.NAME,\"is a student and id \",self.ID)\n",
    "\n",
    "s1=student()\n",
    "s2=student()\n",
    "s1.set_name()"
   ]
  },
  {
   "cell_type": "markdown",
   "metadata": {},
   "source": [
    "# Class Method, Static Method and Instance Method"
   ]
  },
  {
   "cell_type": "code",
   "execution_count": 12,
   "metadata": {},
   "outputs": [
    {
     "name": "stdout",
     "output_type": "stream",
     "text": [
      "Pizza(['mozzarella', 'tomatoes'])\n",
      "Pizza(['mozzarella', 'tomatoes', 'ham'])\n"
     ]
    }
   ],
   "source": [
    "class Pizza:\n",
    "    def __init__(self, ingredients):\n",
    "        self.ingredients = ingredients\n",
    "\n",
    "    def __repr__(self):\n",
    "        return f'Pizza({self.ingredients!r})'\n",
    "\n",
    "    @classmethod\n",
    "    def margherita(cls):\n",
    "        return cls(['mozzarella', 'tomatoes'])\n",
    "\n",
    "    @classmethod\n",
    "    def prosciutto(clso):\n",
    "        return clso(['mozzarella', 'tomatoes', 'ham'])\n",
    "\n",
    "    \n",
    "print(Pizza.margherita())\n",
    "print(Pizza.prosciutto())\n"
   ]
  },
  {
   "cell_type": "code",
   "execution_count": 35,
   "metadata": {},
   "outputs": [
    {
     "name": "stdout",
     "output_type": "stream",
     "text": [
      "Pizza(4, ['mozzarella', 'tomatoes'])\n",
      "50.26548245743669\n",
      "50.26548245743669\n"
     ]
    }
   ],
   "source": [
    "import math\n",
    "\n",
    "class Pizza:\n",
    "    def __init__(self, radius, ingredients):\n",
    "        self.radius = radius\n",
    "        self.ingredients = ingredients\n",
    "\n",
    "    def __repr__(self):\n",
    "        return (f'Pizza({self.radius!r}, '\n",
    "                f'{self.ingredients!r})')\n",
    "\n",
    "    def area(self):\n",
    "        return self.circle_area(self.radius)\n",
    "\n",
    "    @staticmethod\n",
    "    def circle_area(r):\n",
    "        return r ** 2 * math.pi\n",
    "    \n",
    "p = Pizza(4, ['mozzarella', 'tomatoes'])\n",
    "print(p)\n",
    "\n",
    "print(p.area())\n",
    "print(Pizza.circle_area(4))"
   ]
  },
  {
   "cell_type": "code",
   "execution_count": 34,
   "metadata": {},
   "outputs": [
    {
     "name": "stdout",
     "output_type": "stream",
     "text": [
      "hello,mina\n",
      "\n",
      "hello,'mina\\n'\n",
      "hello,{x}\n"
     ]
    }
   ],
   "source": [
    "x= 'mina\\n'\n",
    "print(f'hello,{x}')\n",
    "print(f'hello,{x!r}')\n",
    "print('hello,{x}')"
   ]
  },
  {
   "cell_type": "code",
   "execution_count": 43,
   "metadata": {},
   "outputs": [
    {
     "name": "stdout",
     "output_type": "stream",
     "text": [
      "1.1\n",
      "1.1\n",
      "1.1\n",
      "John.Doe@company.com\n",
      "70000\n",
      "False\n"
     ]
    }
   ],
   "source": [
    "class Employee:\n",
    "    raise_amount = 1.05\n",
    "    num_of_emps = 0\n",
    "\n",
    "    def __init__(self, first, last, pay):\n",
    "        self.first = first\n",
    "        self.last = last\n",
    "        self.pay = pay\n",
    "        self.email = first + '.' + last + '@company.com'\n",
    "\n",
    "        Employee.num_of_emps += 1\n",
    "\n",
    "    def fullname(self):\n",
    "        return '{} {}'.format(self.first, self.last)\n",
    "\n",
    "    def apply_raise(self):\n",
    "        self.pay = int(self.pay * self.raise_amount)\n",
    "\n",
    "    @classmethod\n",
    "    def set_raise_amt(cls, amount):\n",
    "        cls.raise_amount = amount\n",
    "\n",
    "    @classmethod\n",
    "    def from_string(cls, emp_str):\n",
    "        first, last, pay = emp_str.split('-')\n",
    "        return cls(first, last, pay)\n",
    "\n",
    "    @staticmethod\n",
    "    def is_workday(day):\n",
    "        if day.weekday() == 5 or day.weekday() == 6:\n",
    "            return False\n",
    "        return True\n",
    "\n",
    "\n",
    "emp_1 = Employee('Corey', 'Schafer', 50000)\n",
    "emp_2 = Employee('Test', 'Employee', 60000)\n",
    "\n",
    "Employee.set_raise_amt(1.10)\n",
    "\n",
    "print(Employee.raise_amount) # Output: 1.1\n",
    "print(emp_1.raise_amount) # Output: 1.1\n",
    "print(emp_2.raise_amount) # Output: 1.1\n",
    "\n",
    "emp_str_1 = 'John-Doe-70000'\n",
    "emp_3 = Employee.from_string(emp_str_1)\n",
    "print(emp_3.email) # Output: John.Doe@company.com\n",
    "print(emp_3.pay) # Output: 70000\n",
    "\n",
    "import datetime\n",
    "my_date = datetime.date(2022, 2, 6)\n",
    "print(Employee.is_workday(my_date)) # Output: True"
   ]
  },
  {
   "cell_type": "code",
   "execution_count": 44,
   "metadata": {},
   "outputs": [
    {
     "name": "stdout",
     "output_type": "stream",
     "text": [
      "78.5\n",
      "78.5\n",
      "113.04\n"
     ]
    }
   ],
   "source": [
    "class Circle:\n",
    "    pi = 3.14\n",
    "    \n",
    "    def __init__(self, radius):\n",
    "        self.radius = radius\n",
    "\n",
    "    @classmethod\n",
    "    def from_diameter(cls, diameter):\n",
    "        return cls(diameter / 2)\n",
    "\n",
    "    @staticmethod\n",
    "    def circle_area(radius):\n",
    "        return Circle.pi * radius ** 2\n",
    "    \n",
    "    def area(self):\n",
    "        return Circle.circle_area(self.radius)\n",
    "\n",
    "circle = Circle(5)\n",
    "print(circle.area()) # Output: 78.5\n",
    "\n",
    "big_circle = Circle.from_diameter(10)\n",
    "print(big_circle.area()) # Output: 78.5\n",
    "\n",
    "print(Circle.circle_area(6)) # Output: 113.04"
   ]
  },
  {
   "cell_type": "code",
   "execution_count": 46,
   "metadata": {},
   "outputs": [
    {
     "name": "stdout",
     "output_type": "stream",
     "text": [
      "20\n",
      "7\n",
      "-1\n"
     ]
    }
   ],
   "source": [
    "class Math:\n",
    "    \n",
    "    def ___init__(self):\n",
    "        pass\n",
    "\n",
    "    def multiply(self,a,b):\n",
    "        self.a = a\n",
    "        self.b = b\n",
    "        return self.a*self.b\n",
    "    \n",
    "    @classmethod\n",
    "    def subtract(cls, a, b):\n",
    "        return a - b\n",
    "    \n",
    "    @staticmethod\n",
    "    def add(a, b):\n",
    "        return a + b\n",
    "    \n",
    "s1 = Math()\n",
    "\n",
    "print(s1.multiply(4,5))\n",
    "print(Math.add(3, 4)) # Output: 7\n",
    "print(Math.subtract(3, 4)) # Output: -1"
   ]
  },
  {
   "cell_type": "markdown",
   "metadata": {},
   "source": [
    "# Operator Overloadding"
   ]
  },
  {
   "cell_type": "code",
   "execution_count": 57,
   "metadata": {},
   "outputs": [
    {
     "name": "stdout",
     "output_type": "stream",
     "text": [
      "30\n",
      "cse20\n",
      "True\n",
      "30\n"
     ]
    }
   ],
   "source": [
    "class data:\n",
    "    def __init__(self,x):\n",
    "        self.x=x\n",
    "        \n",
    "    def __add__(self, other):\n",
    "        return self.x + other.x\n",
    "    \n",
    "    \n",
    "    def __gt__(self, other):\n",
    "        if self.x > other.x:\n",
    "            return True\n",
    "        else:\n",
    "            return False\n",
    "    \n",
    "    \n",
    "    def Sum(self, other):\n",
    "        return self.x + other.x\n",
    "    \n",
    "n1=data(10)\n",
    "n2=data(20)\n",
    "s1=data('cse')\n",
    "s2=data('20')\n",
    "\n",
    "print(n1+n2)  #n1.__add__(n2)\n",
    "print(s1+s2)  #s1.__add__(s2)\n",
    "\n",
    "print(n1<n2)\n",
    "\n",
    "print(n1.Sum(n2))"
   ]
  },
  {
   "cell_type": "code",
   "execution_count": 50,
   "metadata": {},
   "outputs": [
    {
     "name": "stdout",
     "output_type": "stream",
     "text": [
      "The house has 5  window and 3 door.\n",
      "The house has 10  window and 6 door.\n",
      "(15, 9)\n",
      "New house has 15  window and 9 door.\n",
      "The house has 10  window and 6 door.\n",
      "---------------------------\n",
      "The house has 5  window and 3 door.\n",
      "The house has 10  window and 6 door.\n",
      "<__main__.House object at 0x000001746247C4C8>\n",
      "The house has 15  window and 9 door.\n"
     ]
    }
   ],
   "source": [
    "class House:\n",
    "    def __init__(self,w,d):\n",
    "        self.window = w\n",
    "        self.door = d\n",
    "\n",
    "        self.new_window = None\n",
    "        self.new_door = None\n",
    "        \n",
    "    def __add__(self, other):\n",
    "        self.new_window = self.window + other.window\n",
    "        self.new_door = self.door + other.door\n",
    "        # return 'add--New house has '+str(self.new_window)+' window and '+str(self.new_door)+' door.'\n",
    "        return self.new_window, self.new_door\n",
    "        \n",
    "    def view(self):\n",
    "        #print('Window: ',self.window,'Door: ',self.door)\n",
    "        if self.new_window==None:\n",
    "            print('The house has',self.window,' window and',self.door,'door.')\n",
    "        else:\n",
    "            print('New house has',self.new_window,' window and',self.new_door,'door.')\n",
    "        \n",
    "h1=House(5,3)\n",
    "h2=House(10,6)\n",
    "h1.view()\n",
    "h2.view()\n",
    "\n",
    "print(h1+h2)\n",
    "h1.view()\n",
    "h2.view()\n",
    "\n",
    "print('---------------------------')\n",
    "\n",
    "hw1=House(5,3)\n",
    "hw2=House(10,6)\n",
    "hw1.view()\n",
    "hw2.view()\n",
    "\n",
    "x,y = h1+h2\n",
    "hw3=House(x,y)\n",
    "\n",
    "print(hw3)\n",
    "hw3.view()"
   ]
  },
  {
   "cell_type": "code",
   "execution_count": 51,
   "metadata": {},
   "outputs": [
    {
     "name": "stdout",
     "output_type": "stream",
     "text": [
      "The house has 5  window and 3 door.\n",
      "The house has 10  window and 6 door.\n",
      "(15, 9)\n"
     ]
    }
   ],
   "source": [
    "class House:\n",
    "    def __init__(self,w,d):\n",
    "        self.window = w\n",
    "        self.door = d\n",
    "\n",
    "        \n",
    "    def __add__(self, other):\n",
    "        new_window = self.window + other.window\n",
    "        new_door = self.door + other.door\n",
    "        \n",
    "        obj = House(new_window, new_door)\n",
    "        print(obj)\n",
    "        return obj\n",
    "        \n",
    "    def view(self):\n",
    "        print('The house has',self.window,' window and',self.door,'door.')\n",
    "        \n",
    "hw1=House(5,3)\n",
    "hw2=House(10,6)\n",
    "hw1.view()\n",
    "hw2.view()\n",
    "\n",
    "hw3 = h1+h2\n",
    "print(hw3)"
   ]
  },
  {
   "cell_type": "markdown",
   "metadata": {},
   "source": [
    "# magic metod"
   ]
  },
  {
   "cell_type": "code",
   "execution_count": 1,
   "metadata": {},
   "outputs": [
    {
     "name": "stdout",
     "output_type": "stream",
     "text": [
      "Executing the __init__ method.\n"
     ]
    }
   ],
   "source": [
    "class InitClass(object):\n",
    "\tdef __init__(self):\n",
    "\t\tprint('Executing the __init__ method.')\n",
    "\n",
    "ic = InitClass()\n"
   ]
  },
  {
   "cell_type": "code",
   "execution_count": 5,
   "metadata": {},
   "outputs": [
    {
     "name": "stdout",
     "output_type": "stream",
     "text": [
      "Number:  2\n",
      "Square:  4\n"
     ]
    }
   ],
   "source": [
    "class Square(object):\n",
    "\tdef __init__(self, number = 2):\n",
    "\t\tself._number = number\n",
    "\n",
    "\tdef square(self):\n",
    "\t\treturn self._number**2\n",
    "\n",
    "s = Square()\n",
    "print('Number: % i' % s._number)\n",
    "print('Square: % i' % s.square())\n"
   ]
  },
  {
   "cell_type": "code",
   "execution_count": 19,
   "metadata": {},
   "outputs": [
    {
     "name": "stdout",
     "output_type": "stream",
     "text": [
      "Creating Instance\n",
      "Students({})\n",
      "Students({'_idNo': 1, '_grade': 7})\n",
      "Creating Instance\n",
      "Students({})\n",
      "None\n"
     ]
    }
   ],
   "source": [
    "class Students:\n",
    "    def __init__(self, idNo, grade):\n",
    "        self._idNo = idNo\n",
    "        self._grade = grade\n",
    "\n",
    "    def __new__(cls, idNo, grade):\n",
    "        print(\"Creating Instance\")\n",
    "        instance = super(Students, cls).__new__(cls)\n",
    "        print(instance)\n",
    "        if 5 <= grade <= 10:\n",
    "            \n",
    "            return instance\n",
    "        else:\n",
    "            return None\n",
    "\n",
    "    def __str__(self):\n",
    "        return '{0}({1})'.format(self.__class__.__name__, self.__dict__)\n",
    "\n",
    "\n",
    "stud1 = Students(1, 7)\n",
    "print(stud1)\n",
    "\n",
    "stud2 = Students(2, 12)\n",
    "print(stud2)\n"
   ]
  },
  {
   "cell_type": "code",
   "execution_count": 20,
   "metadata": {},
   "outputs": [
    {
     "name": "stdout",
     "output_type": "stream",
     "text": [
      "Destroyed\n"
     ]
    },
    {
     "data": {
      "text/plain": [
       "'Immutable String - not assigned to a variable'"
      ]
     },
     "execution_count": 20,
     "metadata": {},
     "output_type": "execute_result"
    }
   ],
   "source": [
    "# Destruction(__del__ method)\n",
    "\n",
    "\n",
    "class MyClass(object):\n",
    "\tdef __del__(self):\n",
    "\t\tprint('Destroyed')\n",
    "\n",
    "MyClass()\n",
    "'Immutable String - not assigned to a variable'\n"
   ]
  },
  {
   "cell_type": "code",
   "execution_count": 42,
   "metadata": {},
   "outputs": [
    {
     "name": "stdout",
     "output_type": "stream",
     "text": [
      "--init--\n",
      "My String !\n",
      "--init--\n",
      "12\n"
     ]
    }
   ],
   "source": [
    "# Type Conversion (__str__)\n",
    "\n",
    "class MyString(object):\n",
    "    \n",
    "    def __init__(self,x):\n",
    "        self.x = x\n",
    "        print('--init--')\n",
    "        \n",
    "    def __repr__(self):\n",
    "        return 'My String is play!'\n",
    "    \n",
    "    def __str__(self):\n",
    "        return 'My String !'\n",
    "    \n",
    "    def __len__(self):\n",
    "        return len('78 is my num')\n",
    "    \n",
    "    \n",
    "print((MyString(5)))\n",
    "print(len(MyString(97)))\n"
   ]
  },
  {
   "cell_type": "code",
   "execution_count": 54,
   "metadata": {},
   "outputs": [
    {
     "name": "stdout",
     "output_type": "stream",
     "text": [
      "init\n",
      "call\n",
      "Birds\n"
     ]
    }
   ],
   "source": [
    "class A:\n",
    "    def __init__(self):\n",
    "        print (\"init\")\n",
    "    def __call__(self):\n",
    "        print (\"call\")\n",
    "        \n",
    "    def __bird__(self):\n",
    "        print('Birds')\n",
    "        \n",
    "c1 = A()\n",
    "c1()\n",
    "c1.__bird__()"
   ]
  },
  {
   "cell_type": "code",
   "execution_count": 49,
   "metadata": {},
   "outputs": [
    {
     "name": "stdout",
     "output_type": "stream",
     "text": [
      "Rufus says Woof\n",
      "Fluffy says Meow\n",
      "Tweety says Chirp\n"
     ]
    }
   ],
   "source": [
    "class Animal:\n",
    "    def __init__(self, name):\n",
    "        self.name = name\n",
    "        \n",
    "    def speak(self):\n",
    "        raise NotImplementedError(\"Subclass must implement abstract method\")\n",
    "        \n",
    "class Dog(Animal):\n",
    "    def speak(self):\n",
    "        return \"Woof\"\n",
    "    \n",
    "class Cat(Animal):\n",
    "    def speak(self):\n",
    "        return \"Meow\"\n",
    "    \n",
    "class Bird(Animal):\n",
    "    def speak(self):\n",
    "        return \"Chirp\"\n",
    "    \n",
    "animals = [Dog(\"Rufus\"), Cat(\"Fluffy\"), Bird(\"Tweety\")]\n",
    "\n",
    "for animal in animals:\n",
    "    print(animal.name + \" says \" + animal.speak())\n"
   ]
  },
  {
   "cell_type": "code",
   "execution_count": 58,
   "metadata": {},
   "outputs": [
    {
     "name": "stdout",
     "output_type": "stream",
     "text": [
      "Hello, John\n",
      "Hello, John\n",
      "Hello, John\n"
     ]
    }
   ],
   "source": [
    "def repeat(num_times):\n",
    "    def my_decorator(func):\n",
    "        def wrapper(*args, **kwargs):\n",
    "            for _ in range(num_times):\n",
    "                result = func(*args, **kwargs)\n",
    "            return result\n",
    "        return wrapper\n",
    "    return my_decorator\n",
    "\n",
    "@repeat(num_times=3)\n",
    "def greet(name):\n",
    "    print(f\"Hello, {name}\")\n",
    "\n",
    "greet(\"John\")"
   ]
  },
  {
   "cell_type": "code",
   "execution_count": 66,
   "metadata": {},
   "outputs": [
    {
     "name": "stdout",
     "output_type": "stream",
     "text": [
      "This is a public method 9\n",
      "This is a private method 99\n"
     ]
    }
   ],
   "source": [
    "class MyClass:\n",
    "    def public_method(self,x):\n",
    "        self.x=9\n",
    "        print(\"This is a public method\", self.x)\n",
    "\n",
    "    def _private_method(self,y):\n",
    "        self.y=99\n",
    "        print(\"This is a private method\", self.y)\n",
    "\n",
    "my_object = MyClass()\n",
    "my_object.public_method(6) # Output: \"This is a public method\"\n",
    "my_object._private_method(77) # Output: \"This is a private method\"\n"
   ]
  },
  {
   "cell_type": "code",
   "execution_count": null,
   "metadata": {},
   "outputs": [],
   "source": []
  }
 ],
 "metadata": {
  "kernelspec": {
   "display_name": "Python 3",
   "language": "python",
   "name": "python3"
  },
  "language_info": {
   "codemirror_mode": {
    "name": "ipython",
    "version": 3
   },
   "file_extension": ".py",
   "mimetype": "text/x-python",
   "name": "python",
   "nbconvert_exporter": "python",
   "pygments_lexer": "ipython3",
   "version": "3.7.4"
  }
 },
 "nbformat": 4,
 "nbformat_minor": 2
}
