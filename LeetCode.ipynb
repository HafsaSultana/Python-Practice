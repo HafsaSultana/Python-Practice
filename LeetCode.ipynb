{
 "cells": [
  {
   "cell_type": "code",
   "execution_count": 48,
   "metadata": {},
   "outputs": [
    {
     "name": "stdout",
     "output_type": "stream",
     "text": [
      "3\n",
      "3\n",
      "i=  0  j=  1  value =  3 index =  1\n",
      "value2 =  3 index2 =  1\n",
      "{3: 1}\n",
      "[3, 3]\n"
     ]
    }
   ],
   "source": [
    "#1. Two sum\n",
    "\n",
    "nums = [3,3]\n",
    "target = 6\n",
    "len_num = len(nums)\n",
    "array_with_index = dict()\n",
    "\n",
    "for i in range(0,len(nums)):\n",
    "    array_with_index[nums[i]] = i\n",
    "nums.sort()\n",
    "    \n",
    "for i in range(0,len(nums)):\n",
    "    sub = target - nums[i]\n",
    "    \n",
    "    for j in range(i+1,len(nums)):\n",
    "        if nums[j]==sub:\n",
    "            x = nums[i]\n",
    "            y = nums[j]\n",
    "            print(x)\n",
    "            print(y)\n",
    "            print(\"i= \",i,\" j= \",j,\" value = \",x,\"index = \",array_with_index[x])\n",
    "            print(\"value2 = \",y,\"index2 = \",array_with_index[y])   \n",
    "            break\n",
    "            \n",
    "print(array_with_index)  \n",
    "print(nums)\n"
   ]
  },
  {
   "cell_type": "code",
   "execution_count": 13,
   "metadata": {},
   "outputs": [
    {
     "ename": "ValueError",
     "evalue": "70 is not in list",
     "output_type": "error",
     "traceback": [
      "\u001b[1;31m---------------------------------------------------------------------------\u001b[0m",
      "\u001b[1;31mValueError\u001b[0m                                Traceback (most recent call last)",
      "\u001b[1;32m<ipython-input-13-c3eb0a8e235b>\u001b[0m in \u001b[0;36m<module>\u001b[1;34m\u001b[0m\n\u001b[0;32m      1\u001b[0m \u001b[0mnums\u001b[0m \u001b[1;33m=\u001b[0m \u001b[1;33m[\u001b[0m\u001b[1;36m2\u001b[0m\u001b[1;33m,\u001b[0m\u001b[1;36m7\u001b[0m\u001b[1;33m,\u001b[0m\u001b[1;36m11\u001b[0m\u001b[1;33m,\u001b[0m\u001b[1;36m15\u001b[0m\u001b[1;33m]\u001b[0m\u001b[1;33m\u001b[0m\u001b[1;33m\u001b[0m\u001b[0m\n\u001b[1;32m----> 2\u001b[1;33m \u001b[1;32mif\u001b[0m \u001b[0mnums\u001b[0m\u001b[1;33m.\u001b[0m\u001b[0mindex\u001b[0m\u001b[1;33m(\u001b[0m\u001b[1;36m70\u001b[0m\u001b[1;33m)\u001b[0m \u001b[1;32mis\u001b[0m \u001b[1;32mTrue\u001b[0m\u001b[1;33m:\u001b[0m\u001b[1;33m\u001b[0m\u001b[1;33m\u001b[0m\u001b[0m\n\u001b[0m\u001b[0;32m      3\u001b[0m     \u001b[0mprint\u001b[0m\u001b[1;33m(\u001b[0m\u001b[0mfind_sub\u001b[0m\u001b[1;33m)\u001b[0m\u001b[1;33m\u001b[0m\u001b[1;33m\u001b[0m\u001b[0m\n",
      "\u001b[1;31mValueError\u001b[0m: 70 is not in list"
     ]
    }
   ],
   "source": [
    "nums = [2,7,11,15]\n",
    "if nums.index(70) is True:\n",
    "    print(find_sub)\n",
    "# if not find don't work"
   ]
  },
  {
   "cell_type": "code",
   "execution_count": 32,
   "metadata": {},
   "outputs": [
    {
     "name": "stdout",
     "output_type": "stream",
     "text": [
      "1\n",
      "no\n"
     ]
    }
   ],
   "source": [
    "a = {\"aa\": 1,\"bb\":2,\"cc\":3}\n",
    "print(a[\"aa\"])\n",
    "x=70\n",
    "nums = [2,7,11,15]\n",
    "if x in nums:\n",
    "    print(x)\n",
    "else:\n",
    "    print(\"no\")"
   ]
  },
  {
   "cell_type": "code",
   "execution_count": null,
   "metadata": {},
   "outputs": [],
   "source": []
  }
 ],
 "metadata": {
  "kernelspec": {
   "display_name": "Python 3",
   "language": "python",
   "name": "python3"
  },
  "language_info": {
   "codemirror_mode": {
    "name": "ipython",
    "version": 3
   },
   "file_extension": ".py",
   "mimetype": "text/x-python",
   "name": "python",
   "nbconvert_exporter": "python",
   "pygments_lexer": "ipython3",
   "version": "3.7.4"
  }
 },
 "nbformat": 4,
 "nbformat_minor": 2
}
