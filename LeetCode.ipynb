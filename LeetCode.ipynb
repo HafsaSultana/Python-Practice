{
 "cells": [
  {
   "cell_type": "code",
   "execution_count": 11,
   "metadata": {},
   "outputs": [
    {
     "name": "stdout",
     "output_type": "stream",
     "text": [
      "[0, 3]\n"
     ]
    }
   ],
   "source": [
    "#1. Two sum\n",
    "\n",
    "nums = [-2,7,11,15]\n",
    "target = 13\n",
    "output_list = []\n",
    "array_with_index = dict()\n",
    "\n",
    "#for i in range(0,len(nums)):\n",
    "   # array_with_index[nums[i]] = i\n",
    "#nums.sort()\n",
    "    \n",
    "for i in range(0,len(nums)):\n",
    "    sub = target - nums[i]\n",
    "    \n",
    "    for j in range(i+1,len(nums)):\n",
    "        if nums[j]==sub:\n",
    "            x = nums[i]\n",
    "            y = nums[j]\n",
    "            output_list.append(i)\n",
    "            output_list.append(j)\n",
    "            \n",
    "            #print(\"i= \",i,\" j= \",j,\" value = \",x,\"index = \",i)\n",
    "            #print(\"value2 = \",y,\"index2 = \",j)   \n",
    "            break\n",
    "\n",
    "print(output_list)\n",
    "#print(array_with_index)  \n",
    "#print(nums)\n"
   ]
  },
  {
   "cell_type": "code",
   "execution_count": 13,
   "metadata": {},
   "outputs": [
    {
     "ename": "ValueError",
     "evalue": "70 is not in list",
     "output_type": "error",
     "traceback": [
      "\u001b[1;31m---------------------------------------------------------------------------\u001b[0m",
      "\u001b[1;31mValueError\u001b[0m                                Traceback (most recent call last)",
      "\u001b[1;32m<ipython-input-13-c3eb0a8e235b>\u001b[0m in \u001b[0;36m<module>\u001b[1;34m\u001b[0m\n\u001b[0;32m      1\u001b[0m \u001b[0mnums\u001b[0m \u001b[1;33m=\u001b[0m \u001b[1;33m[\u001b[0m\u001b[1;36m2\u001b[0m\u001b[1;33m,\u001b[0m\u001b[1;36m7\u001b[0m\u001b[1;33m,\u001b[0m\u001b[1;36m11\u001b[0m\u001b[1;33m,\u001b[0m\u001b[1;36m15\u001b[0m\u001b[1;33m]\u001b[0m\u001b[1;33m\u001b[0m\u001b[1;33m\u001b[0m\u001b[0m\n\u001b[1;32m----> 2\u001b[1;33m \u001b[1;32mif\u001b[0m \u001b[0mnums\u001b[0m\u001b[1;33m.\u001b[0m\u001b[0mindex\u001b[0m\u001b[1;33m(\u001b[0m\u001b[1;36m70\u001b[0m\u001b[1;33m)\u001b[0m \u001b[1;32mis\u001b[0m \u001b[1;32mTrue\u001b[0m\u001b[1;33m:\u001b[0m\u001b[1;33m\u001b[0m\u001b[1;33m\u001b[0m\u001b[0m\n\u001b[0m\u001b[0;32m      3\u001b[0m     \u001b[0mprint\u001b[0m\u001b[1;33m(\u001b[0m\u001b[0mfind_sub\u001b[0m\u001b[1;33m)\u001b[0m\u001b[1;33m\u001b[0m\u001b[1;33m\u001b[0m\u001b[0m\n",
      "\u001b[1;31mValueError\u001b[0m: 70 is not in list"
     ]
    }
   ],
   "source": [
    "nums = [2,7,11,15]\n",
    "if nums.index(70) is True:\n",
    "    print(find_sub)\n",
    "# if not find don't work"
   ]
  },
  {
   "cell_type": "code",
   "execution_count": 32,
   "metadata": {},
   "outputs": [
    {
     "name": "stdout",
     "output_type": "stream",
     "text": [
      "1\n",
      "no\n"
     ]
    }
   ],
   "source": [
    "a = {\"aa\": 1,\"bb\":2,\"cc\":3}\n",
    "print(a[\"aa\"])\n",
    "x=70\n",
    "nums = [2,7,11,15]\n",
    "if x in nums:\n",
    "    print(x)\n",
    "else:\n",
    "    print(\"no\")"
   ]
  },
  {
   "cell_type": "code",
   "execution_count": 12,
   "metadata": {},
   "outputs": [
    {
     "name": "stdout",
     "output_type": "stream",
     "text": [
      "0 3\n"
     ]
    }
   ],
   "source": [
    "#1. Two sum\n",
    "\n",
    "nums = [-2,7,11,15]\n",
    "target = 13\n",
    "\n",
    "for i in range(0,len(nums)):\n",
    "    for j in range(i+1,len(nums)):\n",
    "        if (nums[i]+nums[j])==target:\n",
    "            print(i,j)\n",
    "            "
   ]
  },
  {
   "cell_type": "code",
   "execution_count": 53,
   "metadata": {},
   "outputs": [
    {
     "name": "stdout",
     "output_type": "stream",
     "text": [
      "no\n",
      "cb\n",
      "cvbn\n"
     ]
    }
   ],
   "source": [
    "a='cvbn'\n",
    "b='C'\n",
    "if a==b:\n",
    "    print('ok')\n",
    "else:\n",
    "    print('no')\n",
    "s1=a.replace('v','')\n",
    "s1=s1.replace('n','')\n",
    "print(s1)\n",
    "print(a.lower())"
   ]
  },
  {
   "cell_type": "code",
   "execution_count": 51,
   "metadata": {},
   "outputs": [
    {
     "name": "stdout",
     "output_type": "stream",
     "text": [
      "i= 0 s[i] = l e leEeetcode ##\n",
      "s[i] = E E leEeetcode ##\n",
      "i= 2 s[i] = E e leetcode ##\n",
      "s[i] = E e leetcode ##\n",
      "i= 3 s[i] = e e ltcod ##\n",
      "i= 3 s[i] = e e ltcod ##\n",
      "i= 4 s[i] = e t ltcod ##\n",
      "i= 5 s[i] = t c ltcod ##\n",
      "i= 6 s[i] = c o ltcod ##\n",
      "i= 7 s[i] = o d ltcod ##\n",
      "i= 8 s[i] = d e ltcod ##\n",
      "ltcod\n"
     ]
    }
   ],
   "source": [
    "# 1544. Make The String Great\n",
    "s=\"leEeetcode\"\n",
    "s_output=s\n",
    "\n",
    "for i in range (0,(len(s)-1)):\n",
    "    x_upper = s[i].isupper()\n",
    "    y_lower = s[i].lower()\n",
    "    y_upper = s[i].upper()\n",
    "    \n",
    "    #print(\"s[i] =\",s[i],s[i+1],\"##\")\n",
    "    #print(\"x_lower x_upper  =\",x_lower,x_upper)\n",
    "    #print(\"y_lower y_upper  =\",y_lower,y_upper)\n",
    "    \n",
    "    if ((x_upper == True) and (s[i+1] == y_lower)):\n",
    "        print(\"s[i] =\",s[i],s[i+1],s_output,\"##\")\n",
    "        s_output = s_output.replace(s[i],'',i)\n",
    "        s_output = s_output.replace(s[i+1],'',i+1)\n",
    "        i=i+1\n",
    "    elif ((x_upper == False) and (s[i+1] == y_upper)):\n",
    "        print(\"s[i] =\",y_upper,s[i+1],s_output,\"##\")\n",
    "        s_output = s_output.replace(s[i],'',i)\n",
    "        s_output = s_output.replace(s[i+1],'',i+1)\n",
    "        i=i+1\n",
    "    \n",
    "    print(\"i=\",i,\"s[i] =\",s[i],s[i+1],s_output,\"##\")    \n",
    "    \n",
    "\n",
    "print(s_output)\n",
    "        "
   ]
  },
  {
   "cell_type": "code",
   "execution_count": null,
   "metadata": {},
   "outputs": [],
   "source": []
  }
 ],
 "metadata": {
  "kernelspec": {
   "display_name": "Python 3",
   "language": "python",
   "name": "python3"
  },
  "language_info": {
   "codemirror_mode": {
    "name": "ipython",
    "version": 3
   },
   "file_extension": ".py",
   "mimetype": "text/x-python",
   "name": "python",
   "nbconvert_exporter": "python",
   "pygments_lexer": "ipython3",
   "version": "3.7.4"
  }
 },
 "nbformat": 4,
 "nbformat_minor": 2
}
