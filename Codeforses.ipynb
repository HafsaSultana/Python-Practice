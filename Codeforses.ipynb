{
 "cells": [
  {
   "cell_type": "code",
   "execution_count": 37,
   "metadata": {},
   "outputs": [
    {
     "name": "stdout",
     "output_type": "stream",
     "text": [
      "41\n",
      "9\n"
     ]
    }
   ],
   "source": [
    "#A. Elephant\n",
    "coordinate = int(input())\n",
    "div=coordinate/5\n",
    "rem=coordinate%5\n",
    "for i in range(4,0,-1):\n",
    "    if rem==0:\n",
    "        break\n",
    "    div=div+int(rem/i)\n",
    "    rem=rem%i\n",
    "    #print(\"i= \",i,\"  div= \",int(div),\" rem= \",rem)\n",
    "print(int(div))\n",
    "\n"
   ]
  },
  {
   "cell_type": "code",
   "execution_count": 29,
   "metadata": {},
   "outputs": [
    {
     "data": {
      "text/plain": [
       "1.5"
      ]
     },
     "execution_count": 29,
     "metadata": {},
     "output_type": "execute_result"
    }
   ],
   "source": [
    "3/2"
   ]
  },
  {
   "cell_type": "markdown",
   "metadata": {},
   "source": [
    "int(2/3)"
   ]
  },
  {
   "cell_type": "code",
   "execution_count": 1,
   "metadata": {},
   "outputs": [
    {
     "name": "stdout",
     "output_type": "stream",
     "text": [
      "a\n",
      "b\n",
      "c\n",
      "d\n",
      "e\n"
     ]
    }
   ],
   "source": [
    "q=['a','b','c','d','e']\n",
    "for a in q:\n",
    "    print(a)"
   ]
  },
  {
   "cell_type": "code",
   "execution_count": 5,
   "metadata": {},
   "outputs": [
    {
     "name": "stdout",
     "output_type": "stream",
     "text": [
      "the unique values from 1st list is\n",
      "4\n",
      "\n",
      "the unique values from 2nd list is\n",
      "5\n"
     ]
    }
   ],
   "source": [
    "\n",
    "import numpy as np\n",
    "  \n",
    "# function to get unique values\n",
    "  \n",
    "  \n",
    "def unique(list1):\n",
    "    x = np.array(list1)\n",
    "    y = np.unique(x)\n",
    "    \n",
    "    print(len(y))\n",
    "  \n",
    "  \n",
    "\n",
    "# driver code\n",
    "list1 = [10, 20, 10, 30, 40, 40]\n",
    "print(\"the unique values from 1st list is\")\n",
    "unique(list1)\n",
    "\n",
    "\n",
    "list2 = [1, 2, 1, 1, 3, 4, 3, 3, 5]\n",
    "print(\"\\nthe unique values from 2nd list is\")\n",
    "unique(list2)\n"
   ]
  },
  {
   "cell_type": "code",
   "execution_count": 7,
   "metadata": {},
   "outputs": [
    {
     "name": "stdout",
     "output_type": "stream",
     "text": [
      "1234\n",
      "1235\n"
     ]
    }
   ],
   "source": [
    "#A. Beautiful Year\n",
    "\n",
    "year = int(input())+1\n",
    "array1=[]\n",
    "array2=[]\n",
    "\n",
    "while 1:\n",
    "    number = year\n",
    "    div = int(year/10)\n",
    "    rem = int(year%10)\n",
    "\n",
    "    while div > 0:\n",
    "        array1.append(rem)\n",
    "        #print(\"div=\", div , \"rem =\", rem)\n",
    "\n",
    "        if rem not in array2:\n",
    "            array2.append(rem)\n",
    "\n",
    "        div = int(number/10)\n",
    "        rem = int(div%10)\n",
    "        number = div\n",
    "\n",
    "    if len(array1)==len(array2):\n",
    "        print(year)\n",
    "        break\n",
    "    else:\n",
    "        year = year+1\n",
    "        array1.clear()\n",
    "        array2.clear()\n",
    "        \n",
    "    "
   ]
  },
  {
   "cell_type": "code",
   "execution_count": 13,
   "metadata": {},
   "outputs": [
    {
     "name": "stdout",
     "output_type": "stream",
     "text": [
      "2013\n",
      "2014\n"
     ]
    }
   ],
   "source": [
    "#A. Beautiful Year\n",
    "\n",
    "year = int(input())+1\n",
    "array1=[]\n",
    "array2=[]\n",
    "\n",
    "while 1:\n",
    "    div = year\n",
    "    array1.append(int(div%10))\n",
    "    div = int(div/10)\n",
    "    array1.append(int(div%10))\n",
    "    div = int(div/10)\n",
    "    array1.append(int(div%10))\n",
    "    array1.append(int(div/10))\n",
    "    if(array1[0]==array1[1] or array1[0]==array1[2] or array1[0]==array1[3] or array1[1]==array1[2] or array1[1]==array1[3] or array1[2]==array1[3] ):\n",
    "        year = year + 1;\n",
    "        array1.clear()\n",
    "    else:\n",
    "        break\n",
    "        \n",
    "print(year)    \n",
    "    "
   ]
  },
  {
   "cell_type": "code",
   "execution_count": null,
   "metadata": {},
   "outputs": [],
   "source": []
  }
 ],
 "metadata": {
  "kernelspec": {
   "display_name": "Python 3",
   "language": "python",
   "name": "python3"
  },
  "language_info": {
   "codemirror_mode": {
    "name": "ipython",
    "version": 3
   },
   "file_extension": ".py",
   "mimetype": "text/x-python",
   "name": "python",
   "nbconvert_exporter": "python",
   "pygments_lexer": "ipython3",
   "version": "3.7.4"
  }
 },
 "nbformat": 4,
 "nbformat_minor": 2
}
